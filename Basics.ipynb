{
  "cells": [
    {
      "metadata": {
        "scrolled": false,
        "trusted": false
      },
      "cell_type": "code",
      "source": "#All Odds\nx=3\nwhile x<35:\n    x=x+2\n    print (x)",
      "execution_count": 39,
      "outputs": [
        {
          "name": "stdout",
          "output_type": "stream",
          "text": "5\n7\n9\n11\n13\n15\n17\n19\n21\n23\n25\n27\n29\n31\n33\n35\n"
        }
      ]
    },
    {
      "metadata": {
        "trusted": false
      },
      "cell_type": "code",
      "source": "#Loops (A)\nc=0 #initializing Celsius variable\nf=0 #initializing Farenheit variable\nwhile c<=5:     # while Celsius is less or equal to 5  \n    f= 9/5*c + 32     # calculate Farenheits\n    print (int(f))    # print Farengeits but convert it to an integer before printing\n    c=c+1             # increasing Celsius by 1",
      "execution_count": 30,
      "outputs": [
        {
          "name": "stdout",
          "output_type": "stream",
          "text": "32\n33\n35\n37\n39\n41\n"
        }
      ]
    },
    {
      "metadata": {
        "trusted": false
      },
      "cell_type": "code",
      "source": "inp = input()\nintVal = 0\n\nbinStr = \"\"\nhexStr = \"\"\n\nfor c in inp:\n    intVal = ord (c)\n    binStr += bin (intVal) + \" \"\n    hexStr += hex (intVal) + \" \"    \nprint (\"Word is: \" + inp)\nprint (\"In hex: \" + hexStr)\nprint (\"In binary: \" + binStr)",
      "execution_count": 11,
      "outputs": [
        {
          "name": "stdout",
          "output_type": "stream",
          "text": "abc\nWord is: abc\nIn hex: 0x61 0x62 0x63 \nIn binary: 0b1100001 0b1100010 0b1100011 \n"
        }
      ]
    },
    {
      "metadata": {
        "trusted": false
      },
      "cell_type": "code",
      "source": "from ipywidgets import interact\n\n@interact\ndef led(x = 10):\n    state = \"\"\n    if x%2: state = \"ON\"\n    else: state = \"OFF\"\n    print (\"LED is: \" + state)\n    \n        ",
      "execution_count": 38,
      "outputs": [
        {
          "data": {
            "application/vnd.jupyter.widget-view+json": {
              "model_id": "cca53c7fd1b9425985a1feddfbc2fde4",
              "version_major": 2,
              "version_minor": 0
            },
            "text/plain": "interactive(children=(IntSlider(value=10, description='x', max=30, min=-10), Output()), _dom_classes=('widget-…"
          },
          "metadata": {},
          "output_type": "display_data"
        }
      ]
    },
    {
      "metadata": {
        "trusted": false
      },
      "cell_type": "code",
      "source": "from ipywidgets import interact\n\n@interact\ndef circuit(i = 5, r = 5):\n    v = i * r\n    p = v * i\n    print (\"Voltage = \" + str (v))\n    print (\"Power = \" + str (p))\n\n@interact\ndef circuit2(i = \"5\", r = \"5\"):\n    v = int (i) * int (r)\n    p = int (v) * int (i)\n    print (\"Voltage = \" + str (v))\n    print (\"Power = \" + str (p))\n        ",
      "execution_count": 36,
      "outputs": [
        {
          "data": {
            "application/vnd.jupyter.widget-view+json": {
              "model_id": "ec2d45fff0384031a02e37d58a0833a4",
              "version_major": 2,
              "version_minor": 0
            },
            "text/plain": "interactive(children=(IntSlider(value=5, description='i', max=15, min=-5), IntSlider(value=5, description='r',…"
          },
          "metadata": {},
          "output_type": "display_data"
        },
        {
          "data": {
            "application/vnd.jupyter.widget-view+json": {
              "model_id": "3d3ce3953f344b09be2399b7de1ca148",
              "version_major": 2,
              "version_minor": 0
            },
            "text/plain": "interactive(children=(Text(value='5', description='i'), Text(value='5', description='r'), Output()), _dom_clas…"
          },
          "metadata": {},
          "output_type": "display_data"
        }
      ]
    },
    {
      "metadata": {
        "trusted": false
      },
      "cell_type": "code",
      "source": "from ipywidgets import interact\n\npi = 3.14\n\n@interact\ndef volume(r = 5):\n    v = 0.75 * pi * r\n    if v < 0: v = 0\n    print (\"Sphere volume = \" + str (v))",
      "execution_count": 37,
      "outputs": [
        {
          "data": {
            "application/vnd.jupyter.widget-view+json": {
              "model_id": "89267766d7364cc78922edfbefe62b96",
              "version_major": 2,
              "version_minor": 0
            },
            "text/plain": "interactive(children=(IntSlider(value=5, description='r', max=15, min=-5), Output()), _dom_classes=('widget-in…"
          },
          "metadata": {},
          "output_type": "display_data"
        }
      ]
    },
    {
      "metadata": {
        "trusted": false
      },
      "cell_type": "code",
      "source": "print (\"Please enter your mass in kg: \")\nmass = float (input ())\nmStone = mass * 2.2 / 14\nprint (\"Your mass in stones is: \" + str (mStone))",
      "execution_count": 28,
      "outputs": [
        {
          "name": "stdout",
          "output_type": "stream",
          "text": "Please enter your mass in kg: \n92\nYour mass in stones is: 14.457142857142857\n"
        }
      ]
    },
    {
      "metadata": {
        "trusted": false
      },
      "cell_type": "code",
      "source": "print (\"Change sum in cents\")\nchange = int (input ())\nquarters = change // 25\ndimes = (change - (quarters * 25)) // 10\npennies = change - (quarters * 25) - (dimes * 10)\n\nprint (str (quarters) + \" quarters\")\nprint (str (dimes) + \" dimes\")\nprint (str (pennies) + \" pennies\")",
      "execution_count": 35,
      "outputs": [
        {
          "name": "stdout",
          "output_type": "stream",
          "text": "Change sum in cents\n97\n3 quarters\n2 dimes\n2 pennies\n"
        }
      ]
    },
    {
      "metadata": {
        "trusted": false
      },
      "cell_type": "code",
      "source": "",
      "execution_count": null,
      "outputs": []
    },
    {
      "metadata": {
        "trusted": false
      },
      "cell_type": "code",
      "source": "",
      "execution_count": null,
      "outputs": []
    }
  ],
  "metadata": {
    "kernelspec": {
      "name": "python36",
      "display_name": "Python 3.6",
      "language": "python"
    },
    "language_info": {
      "mimetype": "text/x-python",
      "nbconvert_exporter": "python",
      "name": "python",
      "pygments_lexer": "ipython3",
      "version": "3.6.6",
      "file_extension": ".py",
      "codemirror_mode": {
        "version": 3,
        "name": "ipython"
      }
    }
  },
  "nbformat": 4,
  "nbformat_minor": 2
}